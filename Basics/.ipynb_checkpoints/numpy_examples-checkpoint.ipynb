{
 "cells": [
  {
   "cell_type": "markdown",
   "metadata": {},
   "source": [
    "# NumPy\n",
    "\n",
    "numpy is python's package for doing math that is more advanced than +-*/\n",
    "\n",
    "This includes special functions like cosine, exponential, sqrt, ...\n",
    "\n",
    "On top of this we can use numpy to generate samples from many types of random variables\n",
    "\n",
    "numpy also has a powerful data type to define vectors, matrices, and tensors\n",
    "\n",
    "With these data types numpy also allows us to do linear algebra - matrix multiplication and matrix-vector solutions"
   ]
  },
  {
   "cell_type": "code",
   "execution_count": 1,
   "metadata": {},
   "outputs": [],
   "source": [
    "# the first step of using numpy is to tell python to use it\n",
    "import numpy as np"
   ]
  },
  {
   "cell_type": "code",
   "execution_count": 2,
   "metadata": {},
   "outputs": [
    {
     "name": "stdout",
     "output_type": "stream",
     "text": [
      "-1.0\n",
      "1.1\n",
      "5.2\n"
     ]
    }
   ],
   "source": [
    "print(np.cos(np.pi))\n",
    "print(np.sqrt(1.21))\n",
    "print(np.log(np.exp(5.2)))\n"
   ]
  },
  {
   "cell_type": "code",
   "execution_count": 3,
   "metadata": {},
   "outputs": [
    {
     "data": {
      "text/plain": [
       "2.302585092994046"
      ]
     },
     "execution_count": 3,
     "metadata": {},
     "output_type": "execute_result"
    }
   ],
   "source": [
    "np.cos(100)\n",
    "np.sqrt(1.2)\n",
    "np.log(10)"
   ]
  },
  {
   "cell_type": "code",
   "execution_count": 4,
   "metadata": {},
   "outputs": [
    {
     "data": {
      "text/plain": [
       "array([1, 2, 3, 4, 5])"
      ]
     },
     "execution_count": 4,
     "metadata": {},
     "output_type": "execute_result"
    }
   ],
   "source": [
    "list=[1,2,3,4,5]\n",
    "avec = np.array(list)\n",
    "avec"
   ]
  },
  {
   "cell_type": "code",
   "execution_count": 5,
   "metadata": {},
   "outputs": [
    {
     "name": "stdout",
     "output_type": "stream",
     "text": [
      "[1 2 3]\n",
      "\n",
      "[[1 2 1]\n",
      " [4 5 9]\n",
      " [1 8 9]]\n",
      "\n",
      "[[1 4 1]\n",
      " [2 5 8]\n",
      " [1 9 9]]\n"
     ]
    }
   ],
   "source": [
    "# we can create numpy arrays by converting lists\n",
    "# this is a vector\n",
    "vec = np.array([1,2,3])\n",
    "print(vec)\n",
    "# we can create matrices by converting lists of lists\n",
    "mat = np.array([[1,2,1],[4,5,9],[1,8,9]])\n",
    "print('')\n",
    "print(mat)\n",
    "print('')\n",
    "print(mat.T)"
   ]
  },
  {
   "cell_type": "code",
   "execution_count": 6,
   "metadata": {},
   "outputs": [
    {
     "name": "stdout",
     "output_type": "stream",
     "text": [
      "[ 0  1  2  3  4  5  6  7  8  9 10 11 12 13 14]\n",
      "\n",
      "[ 3  9 15]\n"
     ]
    },
    {
     "data": {
      "text/plain": [
       "array([ 0,  4,  8, 12, 16])"
      ]
     },
     "execution_count": 6,
     "metadata": {},
     "output_type": "execute_result"
    }
   ],
   "source": [
    "# there are lots of other ways to create numpy arrays\n",
    "# arange will generate numbers from 0 to 14 i.e. excludes 15\n",
    "vec2 = np.arange(0,15)\n",
    "print(vec2)\n",
    "print('')\n",
    "vec3 = np.arange(3,21,6)\n",
    "print(vec3)\n",
    "bvec = np.arange(0,20,4)\n",
    "bvec\n"
   ]
  },
  {
   "cell_type": "code",
   "execution_count": 7,
   "metadata": {},
   "outputs": [
    {
     "name": "stdout",
     "output_type": "stream",
     "text": [
      "[0.         0.55555556 1.11111111 1.66666667 2.22222222 2.77777778\n",
      " 3.33333333 3.88888889 4.44444444 5.        ]\n",
      "\n",
      "[[0.         0.55555556]\n",
      " [1.11111111 1.66666667]\n",
      " [2.22222222 2.77777778]\n",
      " [3.33333333 3.88888889]\n",
      " [4.44444444 5.        ]]\n",
      "[[0.         0.55555556]\n",
      " [1.11111111 1.66666667]\n",
      " [2.22222222 2.77777778]\n",
      " [3.33333333 3.88888889]\n",
      " [4.44444444 5.        ]]\n",
      "[0.         0.55555556 1.11111111 1.66666667 2.22222222 2.77777778\n",
      " 3.33333333 3.88888889 4.44444444 5.        ]\n"
     ]
    }
   ],
   "source": [
    "#in linspace starting point and ending point are both inclusive\n",
    "vec4 = np.linspace(0,5,10)\n",
    "print(vec4)\n",
    "print('')\n",
    "# reshape will change the shape of the vector to 5 by 2\n",
    "print(vec4.reshape(5,2))\n",
    "vec4_reshaped = vec4.reshape(5,2)\n",
    "print(vec4_reshaped)\n",
    "print(vec4)"
   ]
  },
  {
   "cell_type": "code",
   "execution_count": 8,
   "metadata": {},
   "outputs": [
    {
     "name": "stdout",
     "output_type": "stream",
     "text": [
      "[[0. 0. 0.]\n",
      " [0. 0. 0.]\n",
      " [0. 0. 0.]\n",
      " [0. 0. 0.]\n",
      " [0. 0. 0.]]\n",
      "\n",
      "[[1. 1. 1. 1. 1.]\n",
      " [1. 1. 1. 1. 1.]\n",
      " [1. 1. 1. 1. 1.]]\n",
      "\n",
      "[[1. 0. 0. 0. 0.]\n",
      " [0. 1. 0. 0. 0.]\n",
      " [0. 0. 1. 0. 0.]\n",
      " [0. 0. 0. 1. 0.]\n",
      " [0. 0. 0. 0. 1.]]\n"
     ]
    }
   ],
   "source": [
    "#np.zeros, np.ones will create aaarays with zeros and ones respectively, np.eye is used to create identity matrix\n",
    "mat2 = np.zeros([5,3])\n",
    "print(mat2)\n",
    "mat3 = np.ones((3,5))\n",
    "print('')\n",
    "print(mat3)\n",
    "mat4 = np.eye(5)\n",
    "print('')\n",
    "print(mat4)"
   ]
  },
  {
   "cell_type": "code",
   "execution_count": 9,
   "metadata": {},
   "outputs": [
    {
     "name": "stdout",
     "output_type": "stream",
     "text": [
      "[1 2 3 4 5]\n",
      "[3 4 5 6 7]\n",
      "[ 4  6  8 10 12]\n",
      "[ 3  8 15 24 35]\n",
      "[1.         0.5        0.33333333 0.25       0.2       ]\n",
      "[1.73205081 2.         2.23606798 2.44948974 2.64575131]\n",
      "[ 0.54030231 -0.41614684 -0.9899925  -0.65364362  0.28366219]\n",
      "[ 2  4  6  8 10]\n",
      "[3.         2.         1.66666667 1.5        1.4       ]\n",
      "[2 3 4 5 6]\n"
     ]
    }
   ],
   "source": [
    "# we can +-*/ arrays together if they're the right size\n",
    "vec5 = np.arange(1,6)\n",
    "vec6 = np.arange(3,8)\n",
    "print(vec5)\n",
    "print(vec6)\n",
    "print(vec5+vec6)\n",
    "print(vec5*vec6)\n",
    "print(1/vec5)\n",
    "print(np.sqrt(vec6))\n",
    "print(np.cos(vec5))\n",
    "print(vec5*2)\n",
    "print(vec6/vec5)\n",
    "print(vec5+1)"
   ]
  },
  {
   "cell_type": "code",
   "execution_count": 10,
   "metadata": {},
   "outputs": [
    {
     "name": "stdout",
     "output_type": "stream",
     "text": [
      "[[1 2 1]\n",
      " [4 5 9]\n",
      " [1 8 9]]\n",
      "\n",
      "[1 2 3]\n",
      "\n",
      "[ 8 41 44]\n"
     ]
    }
   ],
   "source": [
    "# we can do matrix multiplication\n",
    "print(mat)\n",
    "print('')\n",
    "print(vec)\n",
    "print()\n",
    "product = np.matmul(mat,vec)\n",
    "print(product)"
   ]
  },
  {
   "cell_type": "code",
   "execution_count": 11,
   "metadata": {},
   "outputs": [
    {
     "data": {
      "text/plain": [
       "array([[ 6, 15, 19],\n",
       "       [12, 30, 38]])"
      ]
     },
     "execution_count": 11,
     "metadata": {},
     "output_type": "execute_result"
    }
   ],
   "source": [
    "mat2=np.array([[1,1,1],[2,2,2]])\n",
    "matmul1 = np.matmul(mat2,mat)\n",
    "matmul1"
   ]
  },
  {
   "cell_type": "code",
   "execution_count": 54,
   "metadata": {},
   "outputs": [
    {
     "name": "stdout",
     "output_type": "stream",
     "text": [
      "[1. 2. 3.]\n",
      "\n",
      "[[ 0.5         0.18518519 -0.24074074]\n",
      " [ 0.5        -0.14814815  0.09259259]\n",
      " [-0.5         0.11111111  0.05555556]]\n"
     ]
    }
   ],
   "source": [
    "print(np.linalg.solve(mat,product))\n",
    "print('')\n",
    "print(np.linalg.inv(mat))"
   ]
  },
  {
   "cell_type": "code",
   "execution_count": 55,
   "metadata": {},
   "outputs": [
    {
     "name": "stdout",
     "output_type": "stream",
     "text": [
      "['blue' 'red' 'orange' 'purple' 'purple' 'orange' 'Red' '6']\n",
      "['6' 'Red' 'blue' 'orange' 'purple' 'red']\n"
     ]
    }
   ],
   "source": [
    "# we can find the unique values in an array\n",
    "vec7 = np.array(['blue','red','orange','purple','purple','orange','Red',6])\n",
    "print(vec7)\n",
    "print(np.unique(vec7))"
   ]
  },
  {
   "cell_type": "code",
   "execution_count": 56,
   "metadata": {},
   "outputs": [
    {
     "name": "stdout",
     "output_type": "stream",
     "text": [
      "[[0.37674145 0.5857524  0.65318882 0.44248475 0.26247502]\n",
      " [0.83326933 0.29419695 0.07290982 0.20753893 0.85157693]\n",
      " [0.52054752 0.77184542 0.3459242  0.43519871 0.84935357]\n",
      " [0.26037802 0.17818465 0.52028101 0.11773076 0.90423953]\n",
      " [0.04674333 0.83087079 0.60390156 0.14941334 0.29132861]]\n",
      "\n",
      "[[ 1.14054084  0.43658341 -0.77927886 -0.60393328  0.60096923]\n",
      " [ 0.64634789 -2.10610595  0.12486061  1.64564876 -0.34295158]\n",
      " [ 0.6391963  -0.69506436 -0.10588687  0.61861317  0.12343752]\n",
      " [ 0.52239214 -0.03894576  1.74283018  0.12829371  0.57605481]\n",
      " [-0.3077427   2.57900198  1.64204695  1.01964264  1.99480202]\n",
      " [-0.70653818 -0.39957615 -0.06732079  0.28506659 -1.14102294]\n",
      " [ 2.33710306 -0.16410277 -1.58510736 -0.44420818  0.46925211]\n",
      " [-0.1347698  -0.5045295   0.07493348 -1.55578025  0.31220119]\n",
      " [ 0.88588962  1.57104764 -1.56552828  1.41228175  1.49609172]\n",
      " [ 1.00443443 -0.14015353  1.57702783  0.82785887  0.82777223]]\n"
     ]
    }
   ],
   "source": [
    "# we can also use numpy to generate samples of a random variable\n",
    "rand_mat = np.random.rand(5,5) # uniform random variable\n",
    "print(rand_mat)\n",
    "rand_mat2 = np.random.randn(10,5) # n at the end signify standard normal random variable\n",
    "print('')\n",
    "print(rand_mat2)"
   ]
  },
  {
   "cell_type": "code",
   "execution_count": null,
   "metadata": {},
   "outputs": [],
   "source": [
    "\n"
   ]
  },
  {
   "cell_type": "code",
   "execution_count": 57,
   "metadata": {},
   "outputs": [
    {
     "name": "stdout",
     "output_type": "stream",
     "text": [
      "0.45624301682672425\n",
      "1.0294350415382212\n"
     ]
    }
   ],
   "source": [
    "# we can also use numpy for statistical tools on arrays\n",
    "print(np.mean(rand_mat))\n",
    "print(np.std(rand_mat2))"
   ]
  },
  {
   "cell_type": "code",
   "execution_count": 58,
   "metadata": {},
   "outputs": [
    {
     "name": "stdout",
     "output_type": "stream",
     "text": [
      "0.046743325625712706\n",
      "2.5790019843793677\n"
     ]
    }
   ],
   "source": [
    "print(np.min(rand_mat))\n",
    "print(np.max(rand_mat2))"
   ]
  },
  {
   "cell_type": "code",
   "execution_count": 59,
   "metadata": {},
   "outputs": [],
   "source": [
    "# break here for next video!"
   ]
  },
  {
   "cell_type": "code",
   "execution_count": 60,
   "metadata": {},
   "outputs": [
    {
     "name": "stdout",
     "output_type": "stream",
     "text": [
      "[ 2.09185887 -0.82669957 -0.83504869 -1.47513012 -0.91811554  0.77230249\n",
      " -1.61780158  0.22300715 -0.24215884  1.02958851  0.36281607  0.94869077\n",
      "  1.56386135 -0.229633   -1.69460533  0.37516239 -1.11880439  1.80815876\n",
      " -0.42419983]\n",
      "-1.6178015754340436\n"
     ]
    }
   ],
   "source": [
    "# how do we access entries in a numpy vector\n",
    "rand_vec = np.random.randn(19)\n",
    "print(rand_vec)\n",
    "print(rand_vec[6])"
   ]
  },
  {
   "cell_type": "code",
   "execution_count": 61,
   "metadata": {},
   "outputs": [
    {
     "name": "stdout",
     "output_type": "stream",
     "text": [
      "[-0.91811554  0.77230249 -1.61780158  0.22300715 -0.24215884]\n"
     ]
    }
   ],
   "source": [
    "# we can access multiple entries at once using :\n",
    "print(rand_vec[4:9])"
   ]
  },
  {
   "cell_type": "code",
   "execution_count": 62,
   "metadata": {},
   "outputs": [
    {
     "name": "stdout",
     "output_type": "stream",
     "text": [
      "[ 0  3  6  9 12]\n",
      "[ 2.09185887 -1.47513012 -1.61780158  1.02958851  1.56386135]\n"
     ]
    }
   ],
   "source": [
    "# we can also access multiple non-consecutive entries using np.arange\n",
    "print(np.arange(0,15,3))\n",
    "print(rand_vec[np.arange(0,15,3)])"
   ]
  },
  {
   "cell_type": "code",
   "execution_count": 63,
   "metadata": {},
   "outputs": [
    {
     "name": "stdout",
     "output_type": "stream",
     "text": [
      "[[0.37674145 0.5857524  0.65318882 0.44248475 0.26247502]\n",
      " [0.83326933 0.29419695 0.07290982 0.20753893 0.85157693]\n",
      " [0.52054752 0.77184542 0.3459242  0.43519871 0.84935357]\n",
      " [0.26037802 0.17818465 0.52028101 0.11773076 0.90423953]\n",
      " [0.04674333 0.83087079 0.60390156 0.14941334 0.29132861]]\n",
      "0.07290982121038914\n",
      "0.07290982121038914\n"
     ]
    }
   ],
   "source": [
    "# what about matrices\n",
    "print(rand_mat)\n",
    "print(rand_mat[1][2])\n",
    "print(rand_mat[1,2])\n"
   ]
  },
  {
   "cell_type": "code",
   "execution_count": 64,
   "metadata": {},
   "outputs": [
    {
     "name": "stdout",
     "output_type": "stream",
     "text": [
      "[[0.5857524  0.65318882]\n",
      " [0.29419695 0.07290982]]\n"
     ]
    }
   ],
   "source": [
    "print(rand_mat[0:2,1:3])"
   ]
  },
  {
   "cell_type": "code",
   "execution_count": 65,
   "metadata": {},
   "outputs": [
    {
     "name": "stdout",
     "output_type": "stream",
     "text": [
      "[ 2.09185887 -0.82669957 -0.83504869 -1.47513012 -0.91811554  0.77230249\n",
      " -1.61780158  0.22300715 -0.24215884  1.02958851  0.36281607  0.94869077\n",
      "  1.56386135 -0.229633   -1.69460533  0.37516239 -1.11880439  1.80815876\n",
      " -0.42419983]\n",
      "\n",
      "[ 2.09185887 -0.82669957 -0.83504869  4.          4.          0.77230249\n",
      " -1.61780158  0.22300715 -0.24215884  1.02958851  0.36281607  0.94869077\n",
      "  1.56386135 -0.229633   -1.69460533  0.37516239 -1.11880439  1.80815876\n",
      " -0.42419983]\n",
      "\n",
      "[ 2.09185887 -0.82669957 -0.83504869  1.          2.          0.77230249\n",
      " -1.61780158  0.22300715 -0.24215884  1.02958851  0.36281607  0.94869077\n",
      "  1.56386135 -0.229633   -1.69460533  0.37516239 -1.11880439  1.80815876\n",
      " -0.42419983]\n"
     ]
    }
   ],
   "source": [
    "# let's change some values in an array!\n",
    "print(rand_vec)\n",
    "rand_vec[3:5] = 4\n",
    "print('')\n",
    "print(rand_vec)\n",
    "rand_vec[3:5] = [1,2]\n",
    "print('')\n",
    "print(rand_vec)"
   ]
  },
  {
   "cell_type": "code",
   "execution_count": 66,
   "metadata": {},
   "outputs": [
    {
     "name": "stdout",
     "output_type": "stream",
     "text": [
      "[[0.37674145 0.5857524  0.65318882 0.44248475 0.26247502]\n",
      " [0.83326933 0.29419695 0.07290982 0.20753893 0.85157693]\n",
      " [0.52054752 0.77184542 0.3459242  0.43519871 0.84935357]\n",
      " [0.26037802 0.17818465 0.52028101 0.11773076 0.90423953]\n",
      " [0.04674333 0.83087079 0.60390156 0.14941334 0.29132861]]\n",
      "\n",
      "[[0.37674145 0.5857524  0.65318882 0.44248475 0.26247502]\n",
      " [0.83326933 0.29419695 0.07290982 0.         0.        ]\n",
      " [0.52054752 0.77184542 0.3459242  0.         0.        ]\n",
      " [0.26037802 0.17818465 0.52028101 0.11773076 0.90423953]\n",
      " [0.04674333 0.83087079 0.60390156 0.14941334 0.29132861]]\n"
     ]
    }
   ],
   "source": [
    "print(rand_mat)\n",
    "rand_mat[1:3,3:5] = 0\n",
    "print('')\n",
    "print(rand_mat)"
   ]
  },
  {
   "cell_type": "code",
   "execution_count": 67,
   "metadata": {},
   "outputs": [
    {
     "name": "stdout",
     "output_type": "stream",
     "text": [
      "[[0.37674145 0.5857524  0.65318882]\n",
      " [0.83326933 0.29419695 0.07290982]]\n",
      "[[3. 3. 3.]\n",
      " [3. 3. 3.]]\n"
     ]
    }
   ],
   "source": [
    "sub_mat = rand_mat[0:2,0:3]\n",
    "print(sub_mat)\n",
    "sub_mat[:] = 3\n",
    "print(sub_mat)\n"
   ]
  },
  {
   "cell_type": "code",
   "execution_count": 68,
   "metadata": {},
   "outputs": [
    {
     "name": "stdout",
     "output_type": "stream",
     "text": [
      "[[3.         3.         3.         0.44248475 0.26247502]\n",
      " [3.         3.         3.         0.         0.        ]\n",
      " [0.52054752 0.77184542 0.3459242  0.         0.        ]\n",
      " [0.26037802 0.17818465 0.52028101 0.11773076 0.90423953]\n",
      " [0.04674333 0.83087079 0.60390156 0.14941334 0.29132861]]\n"
     ]
    }
   ],
   "source": [
    "print(rand_mat)"
   ]
  },
  {
   "cell_type": "code",
   "execution_count": 69,
   "metadata": {},
   "outputs": [
    {
     "name": "stdout",
     "output_type": "stream",
     "text": [
      "[[99. 99. 99.]\n",
      " [99. 99. 99.]]\n",
      "[[3.         3.         3.         0.44248475 0.26247502]\n",
      " [3.         3.         3.         0.         0.        ]\n",
      " [0.52054752 0.77184542 0.3459242  0.         0.        ]\n",
      " [0.26037802 0.17818465 0.52028101 0.11773076 0.90423953]\n",
      " [0.04674333 0.83087079 0.60390156 0.14941334 0.29132861]]\n"
     ]
    }
   ],
   "source": [
    "sub_mat2 = rand_mat[0:2,0:3].copy()\n",
    "sub_mat2[:] = 99\n",
    "print(sub_mat2)\n",
    "print(rand_mat)\n"
   ]
  },
  {
   "cell_type": "code",
   "execution_count": null,
   "metadata": {},
   "outputs": [],
   "source": [
    "# break here for next video"
   ]
  },
  {
   "cell_type": "code",
   "execution_count": 70,
   "metadata": {},
   "outputs": [
    {
     "name": "stdout",
     "output_type": "stream",
     "text": [
      "[ 1.79464484 -0.62365024 -0.14147372  0.81665809  0.28586088  0.66695256\n",
      "  0.6935742  -0.95282691  0.04414226 -0.18345306 -0.77154613  0.45704218\n",
      " -1.21406764  1.50759212 -1.63060326]\n",
      "[ True False False  True  True  True  True False  True False False  True\n",
      " False  True False]\n",
      "[1.79464484 0.81665809 0.28586088 0.66695256 0.6935742  0.04414226\n",
      " 0.45704218 1.50759212]\n"
     ]
    }
   ],
   "source": [
    "# we can also access entries with logicals\n",
    "rand_vec = np.random.randn(15)\n",
    "\n",
    "print(rand_vec)\n",
    "print(rand_vec>0)\n",
    "print(rand_vec[rand_vec>0])"
   ]
  },
  {
   "cell_type": "code",
   "execution_count": 71,
   "metadata": {},
   "outputs": [
    {
     "name": "stdout",
     "output_type": "stream",
     "text": [
      "[[ 1.14054084  0.43658341 -0.77927886 -0.60393328  0.60096923]\n",
      " [ 0.64634789 -2.10610595  0.12486061  1.64564876 -0.34295158]\n",
      " [ 0.6391963  -0.69506436 -0.10588687  0.61861317  0.12343752]\n",
      " [ 0.52239214 -0.03894576  1.74283018  0.12829371  0.57605481]\n",
      " [-0.3077427   2.57900198  1.64204695  1.01964264  1.99480202]\n",
      " [-0.70653818 -0.39957615 -0.06732079  0.28506659 -1.14102294]\n",
      " [ 2.33710306 -0.16410277 -1.58510736 -0.44420818  0.46925211]\n",
      " [-0.1347698  -0.5045295   0.07493348 -1.55578025  0.31220119]\n",
      " [ 0.88588962  1.57104764 -1.56552828  1.41228175  1.49609172]\n",
      " [ 1.00443443 -0.14015353  1.57702783  0.82785887  0.82777223]]\n",
      "[1.14054084 0.43658341 0.60096923 0.64634789 0.12486061 1.64564876\n",
      " 0.6391963  0.61861317 0.12343752 0.52239214 1.74283018 0.12829371\n",
      " 0.57605481 2.57900198 1.64204695 1.01964264 1.99480202 0.28506659\n",
      " 2.33710306 0.46925211 0.07493348 0.31220119 0.88588962 1.57104764\n",
      " 1.41228175 1.49609172 1.00443443 1.57702783 0.82785887 0.82777223]\n"
     ]
    }
   ],
   "source": [
    "print(rand_mat2)\n",
    "print(rand_mat2[rand_mat2>0])"
   ]
  },
  {
   "cell_type": "code",
   "execution_count": 72,
   "metadata": {},
   "outputs": [
    {
     "name": "stdout",
     "output_type": "stream",
     "text": [
      "[ 1.79464484 -0.62365024 -0.14147372  0.81665809  0.28586088  0.66695256\n",
      "  0.6935742  -0.95282691  0.04414226 -0.18345306 -0.77154613  0.45704218\n",
      " -1.21406764  1.50759212 -1.63060326]\n",
      "\n",
      "[-5.         -0.62365024 -0.14147372 -5.          0.28586088 -5.\n",
      " -5.         -0.95282691  0.04414226 -0.18345306 -0.77154613  0.45704218\n",
      " -1.21406764 -5.         -1.63060326]\n"
     ]
    }
   ],
   "source": [
    "\n",
    "print(rand_vec)\n",
    "print('')\n",
    "rand_vec[rand_vec>0.5] = -5\n",
    "print(rand_vec)"
   ]
  },
  {
   "cell_type": "code",
   "execution_count": 73,
   "metadata": {},
   "outputs": [],
   "source": [
    "# let's save some arrays on the disk for use later!\n",
    "np.save('saved_file_name',rand_mat2)\n"
   ]
  },
  {
   "cell_type": "code",
   "execution_count": 74,
   "metadata": {},
   "outputs": [],
   "source": [
    "np.savez('zipped_file_name',rand_mat=rand_mat,rand_mat2=rand_mat2)"
   ]
  },
  {
   "cell_type": "code",
   "execution_count": 75,
   "metadata": {},
   "outputs": [
    {
     "name": "stdout",
     "output_type": "stream",
     "text": [
      "[[ 1.14054084  0.43658341 -0.77927886 -0.60393328  0.60096923]\n",
      " [ 0.64634789 -2.10610595  0.12486061  1.64564876 -0.34295158]\n",
      " [ 0.6391963  -0.69506436 -0.10588687  0.61861317  0.12343752]\n",
      " [ 0.52239214 -0.03894576  1.74283018  0.12829371  0.57605481]\n",
      " [-0.3077427   2.57900198  1.64204695  1.01964264  1.99480202]\n",
      " [-0.70653818 -0.39957615 -0.06732079  0.28506659 -1.14102294]\n",
      " [ 2.33710306 -0.16410277 -1.58510736 -0.44420818  0.46925211]\n",
      " [-0.1347698  -0.5045295   0.07493348 -1.55578025  0.31220119]\n",
      " [ 0.88588962  1.57104764 -1.56552828  1.41228175  1.49609172]\n",
      " [ 1.00443443 -0.14015353  1.57702783  0.82785887  0.82777223]]\n",
      "\n",
      "<numpy.lib.npyio.NpzFile object at 0x7f9fec67ffd0>\n"
     ]
    }
   ],
   "source": [
    "# now let's load it\n",
    "loaded_vec = np.load('saved_file_name.npy')\n",
    "loaded_zip = np.load('zipped_file_name.npz')\n",
    "\n",
    "print(loaded_vec)\n",
    "print('')\n",
    "print(loaded_zip)"
   ]
  },
  {
   "cell_type": "code",
   "execution_count": 76,
   "metadata": {},
   "outputs": [
    {
     "name": "stdout",
     "output_type": "stream",
     "text": [
      "[[3.         3.         3.         0.44248475 0.26247502]\n",
      " [3.         3.         3.         0.         0.        ]\n",
      " [0.52054752 0.77184542 0.3459242  0.         0.        ]\n",
      " [0.26037802 0.17818465 0.52028101 0.11773076 0.90423953]\n",
      " [0.04674333 0.83087079 0.60390156 0.14941334 0.29132861]]\n",
      "\n",
      "[[ 1.14054084  0.43658341 -0.77927886 -0.60393328  0.60096923]\n",
      " [ 0.64634789 -2.10610595  0.12486061  1.64564876 -0.34295158]\n",
      " [ 0.6391963  -0.69506436 -0.10588687  0.61861317  0.12343752]\n",
      " [ 0.52239214 -0.03894576  1.74283018  0.12829371  0.57605481]\n",
      " [-0.3077427   2.57900198  1.64204695  1.01964264  1.99480202]\n",
      " [-0.70653818 -0.39957615 -0.06732079  0.28506659 -1.14102294]\n",
      " [ 2.33710306 -0.16410277 -1.58510736 -0.44420818  0.46925211]\n",
      " [-0.1347698  -0.5045295   0.07493348 -1.55578025  0.31220119]\n",
      " [ 0.88588962  1.57104764 -1.56552828  1.41228175  1.49609172]\n",
      " [ 1.00443443 -0.14015353  1.57702783  0.82785887  0.82777223]]\n",
      "[[3.         3.         3.         0.44248475 0.26247502]\n",
      " [3.         3.         3.         0.         0.        ]\n",
      " [0.52054752 0.77184542 0.3459242  0.         0.        ]\n",
      " [0.26037802 0.17818465 0.52028101 0.11773076 0.90423953]\n",
      " [0.04674333 0.83087079 0.60390156 0.14941334 0.29132861]]\n"
     ]
    }
   ],
   "source": [
    "print(loaded_zip['rand_mat'])\n",
    "print('')\n",
    "print(loaded_zip['rand_mat2'])\n",
    "\n",
    "new_array  = loaded_zip['rand_mat']\n",
    "print(new_array)"
   ]
  },
  {
   "cell_type": "code",
   "execution_count": 77,
   "metadata": {},
   "outputs": [
    {
     "name": "stdout",
     "output_type": "stream",
     "text": [
      "[[3.         3.         3.         0.44248475 0.26247502]\n",
      " [3.         3.         3.         0.         0.        ]\n",
      " [0.52054752 0.77184542 0.3459242  0.         0.        ]\n",
      " [0.26037802 0.17818465 0.52028101 0.11773076 0.90423953]\n",
      " [0.04674333 0.83087079 0.60390156 0.14941334 0.29132861]]\n",
      "\n",
      "[[3.         3.         3.         0.44248475 0.26247502]\n",
      " [3.         3.         3.         0.         0.        ]\n",
      " [0.52054752 0.77184542 0.3459242  0.         0.        ]\n",
      " [0.26037802 0.17818465 0.52028101 0.11773076 0.90423953]\n",
      " [0.04674333 0.83087079 0.60390156 0.14941334 0.29132861]]\n"
     ]
    }
   ],
   "source": [
    "# we can also save/load as text files...but only single variables\n",
    "np.savetxt('text_file_name.txt',rand_mat,delimiter=',')\n",
    "rand_mat_txt = np.loadtxt('text_file_name.txt',delimiter=',')\n",
    "print(rand_mat)\n",
    "print('')\n",
    "print(rand_mat_txt)"
   ]
  },
  {
   "cell_type": "code",
   "execution_count": null,
   "metadata": {},
   "outputs": [],
   "source": []
  },
  {
   "cell_type": "code",
   "execution_count": null,
   "metadata": {},
   "outputs": [],
   "source": []
  }
 ],
 "metadata": {
  "kernelspec": {
   "display_name": "Python 3",
   "language": "python",
   "name": "python3"
  },
  "language_info": {
   "codemirror_mode": {
    "name": "ipython",
    "version": 3
   },
   "file_extension": ".py",
   "mimetype": "text/x-python",
   "name": "python",
   "nbconvert_exporter": "python",
   "pygments_lexer": "ipython3",
   "version": "3.8.5"
  }
 },
 "nbformat": 4,
 "nbformat_minor": 2
}
