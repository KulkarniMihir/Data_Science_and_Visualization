{
 "cells": [
  {
   "cell_type": "code",
   "execution_count": null,
   "metadata": {
    "id": "ZnqBwrNGf86x"
   },
   "outputs": [],
   "source": [
    "import pandas as pd"
   ]
  },
  {
   "cell_type": "code",
   "execution_count": null,
   "metadata": {
    "id": "LGN8TaxYgH8A"
   },
   "outputs": [],
   "source": [
    "df = pd.read_csv('/content/abalone.data')"
   ]
  },
  {
   "cell_type": "code",
   "execution_count": null,
   "metadata": {
    "colab": {
     "base_uri": "https://localhost:8080/",
     "height": 195
    },
    "id": "ecxnqaY6gL1x",
    "outputId": "ba89d37c-5e4e-4ba0-97e1-47b675a6fadd"
   },
   "outputs": [
    {
     "data": {
      "text/html": [
       "<div>\n",
       "<style scoped>\n",
       "    .dataframe tbody tr th:only-of-type {\n",
       "        vertical-align: middle;\n",
       "    }\n",
       "\n",
       "    .dataframe tbody tr th {\n",
       "        vertical-align: top;\n",
       "    }\n",
       "\n",
       "    .dataframe thead th {\n",
       "        text-align: right;\n",
       "    }\n",
       "</style>\n",
       "<table border=\"1\" class=\"dataframe\">\n",
       "  <thead>\n",
       "    <tr style=\"text-align: right;\">\n",
       "      <th></th>\n",
       "      <th>M</th>\n",
       "      <th>0.455</th>\n",
       "      <th>0.365</th>\n",
       "      <th>0.095</th>\n",
       "      <th>0.514</th>\n",
       "      <th>0.2245</th>\n",
       "      <th>0.101</th>\n",
       "      <th>0.15</th>\n",
       "      <th>15</th>\n",
       "    </tr>\n",
       "  </thead>\n",
       "  <tbody>\n",
       "    <tr>\n",
       "      <th>0</th>\n",
       "      <td>M</td>\n",
       "      <td>0.350</td>\n",
       "      <td>0.265</td>\n",
       "      <td>0.090</td>\n",
       "      <td>0.2255</td>\n",
       "      <td>0.0995</td>\n",
       "      <td>0.0485</td>\n",
       "      <td>0.070</td>\n",
       "      <td>7</td>\n",
       "    </tr>\n",
       "    <tr>\n",
       "      <th>1</th>\n",
       "      <td>F</td>\n",
       "      <td>0.530</td>\n",
       "      <td>0.420</td>\n",
       "      <td>0.135</td>\n",
       "      <td>0.6770</td>\n",
       "      <td>0.2565</td>\n",
       "      <td>0.1415</td>\n",
       "      <td>0.210</td>\n",
       "      <td>9</td>\n",
       "    </tr>\n",
       "    <tr>\n",
       "      <th>2</th>\n",
       "      <td>M</td>\n",
       "      <td>0.440</td>\n",
       "      <td>0.365</td>\n",
       "      <td>0.125</td>\n",
       "      <td>0.5160</td>\n",
       "      <td>0.2155</td>\n",
       "      <td>0.1140</td>\n",
       "      <td>0.155</td>\n",
       "      <td>10</td>\n",
       "    </tr>\n",
       "    <tr>\n",
       "      <th>3</th>\n",
       "      <td>I</td>\n",
       "      <td>0.330</td>\n",
       "      <td>0.255</td>\n",
       "      <td>0.080</td>\n",
       "      <td>0.2050</td>\n",
       "      <td>0.0895</td>\n",
       "      <td>0.0395</td>\n",
       "      <td>0.055</td>\n",
       "      <td>7</td>\n",
       "    </tr>\n",
       "    <tr>\n",
       "      <th>4</th>\n",
       "      <td>I</td>\n",
       "      <td>0.425</td>\n",
       "      <td>0.300</td>\n",
       "      <td>0.095</td>\n",
       "      <td>0.3515</td>\n",
       "      <td>0.1410</td>\n",
       "      <td>0.0775</td>\n",
       "      <td>0.120</td>\n",
       "      <td>8</td>\n",
       "    </tr>\n",
       "  </tbody>\n",
       "</table>\n",
       "</div>"
      ],
      "text/plain": [
       "   M  0.455  0.365  0.095   0.514  0.2245   0.101   0.15  15\n",
       "0  M  0.350  0.265  0.090  0.2255  0.0995  0.0485  0.070   7\n",
       "1  F  0.530  0.420  0.135  0.6770  0.2565  0.1415  0.210   9\n",
       "2  M  0.440  0.365  0.125  0.5160  0.2155  0.1140  0.155  10\n",
       "3  I  0.330  0.255  0.080  0.2050  0.0895  0.0395  0.055   7\n",
       "4  I  0.425  0.300  0.095  0.3515  0.1410  0.0775  0.120   8"
      ]
     },
     "execution_count": 3,
     "metadata": {
      "tags": []
     },
     "output_type": "execute_result"
    }
   ],
   "source": [
    "df.head()"
   ]
  },
  {
   "cell_type": "code",
   "execution_count": null,
   "metadata": {
    "colab": {
     "base_uri": "https://localhost:8080/"
    },
    "id": "GNCNmzpogM1o",
    "outputId": "fa462c59-b584-4c37-cb64-685beaf42567"
   },
   "outputs": [
    {
     "name": "stdout",
     "output_type": "stream",
     "text": [
      "<class 'pandas.core.frame.DataFrame'>\n",
      "RangeIndex: 4176 entries, 0 to 4175\n",
      "Data columns (total 9 columns):\n",
      " #   Column          Non-Null Count  Dtype  \n",
      "---  ------          --------------  -----  \n",
      " 0   sex             4176 non-null   object \n",
      " 1   length          4176 non-null   float64\n",
      " 2   diameter        4176 non-null   float64\n",
      " 3   height          4176 non-null   float64\n",
      " 4   whole weight    4176 non-null   float64\n",
      " 5   shucked weight  4176 non-null   float64\n",
      " 6   viscera weight  4176 non-null   float64\n",
      " 7   shell weight    4176 non-null   float64\n",
      " 8   rings           4176 non-null   int64  \n",
      "dtypes: float64(7), int64(1), object(1)\n",
      "memory usage: 293.8+ KB\n"
     ]
    }
   ],
   "source": [
    "df.info()"
   ]
  },
  {
   "cell_type": "code",
   "execution_count": null,
   "metadata": {
    "colab": {
     "base_uri": "https://localhost:8080/",
     "height": 402
    },
    "id": "18R-TT3ygReW",
    "outputId": "7616ec83-eb94-4c24-9ea4-36d08756bf1a"
   },
   "outputs": [
    {
     "data": {
      "text/html": [
       "<div>\n",
       "<style scoped>\n",
       "    .dataframe tbody tr th:only-of-type {\n",
       "        vertical-align: middle;\n",
       "    }\n",
       "\n",
       "    .dataframe tbody tr th {\n",
       "        vertical-align: top;\n",
       "    }\n",
       "\n",
       "    .dataframe thead th {\n",
       "        text-align: right;\n",
       "    }\n",
       "</style>\n",
       "<table border=\"1\" class=\"dataframe\">\n",
       "  <thead>\n",
       "    <tr style=\"text-align: right;\">\n",
       "      <th></th>\n",
       "      <th>sex</th>\n",
       "      <th>length</th>\n",
       "      <th>diameter</th>\n",
       "      <th>height</th>\n",
       "      <th>whole weight</th>\n",
       "      <th>shucked weight</th>\n",
       "      <th>viscera weight</th>\n",
       "      <th>shell weight</th>\n",
       "      <th>rings</th>\n",
       "    </tr>\n",
       "  </thead>\n",
       "  <tbody>\n",
       "    <tr>\n",
       "      <th>0</th>\n",
       "      <td>M</td>\n",
       "      <td>0.350</td>\n",
       "      <td>0.265</td>\n",
       "      <td>0.090</td>\n",
       "      <td>0.2255</td>\n",
       "      <td>0.0995</td>\n",
       "      <td>0.0485</td>\n",
       "      <td>0.0700</td>\n",
       "      <td>7</td>\n",
       "    </tr>\n",
       "    <tr>\n",
       "      <th>1</th>\n",
       "      <td>F</td>\n",
       "      <td>0.530</td>\n",
       "      <td>0.420</td>\n",
       "      <td>0.135</td>\n",
       "      <td>0.6770</td>\n",
       "      <td>0.2565</td>\n",
       "      <td>0.1415</td>\n",
       "      <td>0.2100</td>\n",
       "      <td>9</td>\n",
       "    </tr>\n",
       "    <tr>\n",
       "      <th>2</th>\n",
       "      <td>M</td>\n",
       "      <td>0.440</td>\n",
       "      <td>0.365</td>\n",
       "      <td>0.125</td>\n",
       "      <td>0.5160</td>\n",
       "      <td>0.2155</td>\n",
       "      <td>0.1140</td>\n",
       "      <td>0.1550</td>\n",
       "      <td>10</td>\n",
       "    </tr>\n",
       "    <tr>\n",
       "      <th>3</th>\n",
       "      <td>I</td>\n",
       "      <td>0.330</td>\n",
       "      <td>0.255</td>\n",
       "      <td>0.080</td>\n",
       "      <td>0.2050</td>\n",
       "      <td>0.0895</td>\n",
       "      <td>0.0395</td>\n",
       "      <td>0.0550</td>\n",
       "      <td>7</td>\n",
       "    </tr>\n",
       "    <tr>\n",
       "      <th>4</th>\n",
       "      <td>I</td>\n",
       "      <td>0.425</td>\n",
       "      <td>0.300</td>\n",
       "      <td>0.095</td>\n",
       "      <td>0.3515</td>\n",
       "      <td>0.1410</td>\n",
       "      <td>0.0775</td>\n",
       "      <td>0.1200</td>\n",
       "      <td>8</td>\n",
       "    </tr>\n",
       "    <tr>\n",
       "      <th>...</th>\n",
       "      <td>...</td>\n",
       "      <td>...</td>\n",
       "      <td>...</td>\n",
       "      <td>...</td>\n",
       "      <td>...</td>\n",
       "      <td>...</td>\n",
       "      <td>...</td>\n",
       "      <td>...</td>\n",
       "      <td>...</td>\n",
       "    </tr>\n",
       "    <tr>\n",
       "      <th>4171</th>\n",
       "      <td>F</td>\n",
       "      <td>0.565</td>\n",
       "      <td>0.450</td>\n",
       "      <td>0.165</td>\n",
       "      <td>0.8870</td>\n",
       "      <td>0.3700</td>\n",
       "      <td>0.2390</td>\n",
       "      <td>0.2490</td>\n",
       "      <td>11</td>\n",
       "    </tr>\n",
       "    <tr>\n",
       "      <th>4172</th>\n",
       "      <td>M</td>\n",
       "      <td>0.590</td>\n",
       "      <td>0.440</td>\n",
       "      <td>0.135</td>\n",
       "      <td>0.9660</td>\n",
       "      <td>0.4390</td>\n",
       "      <td>0.2145</td>\n",
       "      <td>0.2605</td>\n",
       "      <td>10</td>\n",
       "    </tr>\n",
       "    <tr>\n",
       "      <th>4173</th>\n",
       "      <td>M</td>\n",
       "      <td>0.600</td>\n",
       "      <td>0.475</td>\n",
       "      <td>0.205</td>\n",
       "      <td>1.1760</td>\n",
       "      <td>0.5255</td>\n",
       "      <td>0.2875</td>\n",
       "      <td>0.3080</td>\n",
       "      <td>9</td>\n",
       "    </tr>\n",
       "    <tr>\n",
       "      <th>4174</th>\n",
       "      <td>F</td>\n",
       "      <td>0.625</td>\n",
       "      <td>0.485</td>\n",
       "      <td>0.150</td>\n",
       "      <td>1.0945</td>\n",
       "      <td>0.5310</td>\n",
       "      <td>0.2610</td>\n",
       "      <td>0.2960</td>\n",
       "      <td>10</td>\n",
       "    </tr>\n",
       "    <tr>\n",
       "      <th>4175</th>\n",
       "      <td>M</td>\n",
       "      <td>0.710</td>\n",
       "      <td>0.555</td>\n",
       "      <td>0.195</td>\n",
       "      <td>1.9485</td>\n",
       "      <td>0.9455</td>\n",
       "      <td>0.3765</td>\n",
       "      <td>0.4950</td>\n",
       "      <td>12</td>\n",
       "    </tr>\n",
       "  </tbody>\n",
       "</table>\n",
       "<p>4176 rows × 9 columns</p>\n",
       "</div>"
      ],
      "text/plain": [
       "     sex  length  diameter  ...  viscera weight  shell weight  rings\n",
       "0      M   0.350     0.265  ...          0.0485        0.0700      7\n",
       "1      F   0.530     0.420  ...          0.1415        0.2100      9\n",
       "2      M   0.440     0.365  ...          0.1140        0.1550     10\n",
       "3      I   0.330     0.255  ...          0.0395        0.0550      7\n",
       "4      I   0.425     0.300  ...          0.0775        0.1200      8\n",
       "...   ..     ...       ...  ...             ...           ...    ...\n",
       "4171   F   0.565     0.450  ...          0.2390        0.2490     11\n",
       "4172   M   0.590     0.440  ...          0.2145        0.2605     10\n",
       "4173   M   0.600     0.475  ...          0.2875        0.3080      9\n",
       "4174   F   0.625     0.485  ...          0.2610        0.2960     10\n",
       "4175   M   0.710     0.555  ...          0.3765        0.4950     12\n",
       "\n",
       "[4176 rows x 9 columns]"
      ]
     },
     "execution_count": 4,
     "metadata": {
      "tags": []
     },
     "output_type": "execute_result"
    }
   ],
   "source": [
    "df.rename(columns={'M': 'sex', '0.455': 'length', '0.365': 'diameter', '0.095': 'height', '0.514': 'whole weight', '0.2245': 'shucked weight', '0.101': 'viscera weight', '0.15': 'shell weight', '15': 'rings'}, inplace=True)\n",
    "df"
   ]
  },
  {
   "cell_type": "code",
   "execution_count": null,
   "metadata": {
    "colab": {
     "base_uri": "https://localhost:8080/"
    },
    "id": "U26oZeN1hqmP",
    "outputId": "5c7fdbf1-e4fe-4f25-a16e-1d97d1db9030"
   },
   "outputs": [
    {
     "data": {
      "text/plain": [
       "(4176, 9)"
      ]
     },
     "execution_count": 5,
     "metadata": {
      "tags": []
     },
     "output_type": "execute_result"
    }
   ],
   "source": [
    "df.shape"
   ]
  },
  {
   "cell_type": "code",
   "execution_count": null,
   "metadata": {
    "colab": {
     "base_uri": "https://localhost:8080/"
    },
    "id": "PtUDGkNniEuk",
    "outputId": "b4c01945-d864-43e6-cd05-c31acf49a08f"
   },
   "outputs": [
    {
     "data": {
      "text/plain": [
       "False"
      ]
     },
     "execution_count": 73,
     "metadata": {
      "tags": []
     },
     "output_type": "execute_result"
    }
   ],
   "source": [
    "df.isnull().values.any()"
   ]
  },
  {
   "cell_type": "code",
   "execution_count": null,
   "metadata": {
    "colab": {
     "base_uri": "https://localhost:8080/",
     "height": 284
    },
    "id": "x3xjXJQmiMlv",
    "outputId": "ca8e45ca-9bee-4986-8729-7585ade0ffb8"
   },
   "outputs": [
    {
     "data": {
      "text/html": [
       "<div>\n",
       "<style scoped>\n",
       "    .dataframe tbody tr th:only-of-type {\n",
       "        vertical-align: middle;\n",
       "    }\n",
       "\n",
       "    .dataframe tbody tr th {\n",
       "        vertical-align: top;\n",
       "    }\n",
       "\n",
       "    .dataframe thead th {\n",
       "        text-align: right;\n",
       "    }\n",
       "</style>\n",
       "<table border=\"1\" class=\"dataframe\">\n",
       "  <thead>\n",
       "    <tr style=\"text-align: right;\">\n",
       "      <th></th>\n",
       "      <th>length</th>\n",
       "      <th>diameter</th>\n",
       "      <th>height</th>\n",
       "      <th>whole weight</th>\n",
       "      <th>shucked weight</th>\n",
       "      <th>viscera weight</th>\n",
       "      <th>shell weight</th>\n",
       "      <th>rings</th>\n",
       "    </tr>\n",
       "  </thead>\n",
       "  <tbody>\n",
       "    <tr>\n",
       "      <th>length</th>\n",
       "      <td>1.000000</td>\n",
       "      <td>0.986813</td>\n",
       "      <td>0.827552</td>\n",
       "      <td>0.925255</td>\n",
       "      <td>0.897905</td>\n",
       "      <td>0.903010</td>\n",
       "      <td>0.897697</td>\n",
       "      <td>0.557123</td>\n",
       "    </tr>\n",
       "    <tr>\n",
       "      <th>diameter</th>\n",
       "      <td>0.986813</td>\n",
       "      <td>1.000000</td>\n",
       "      <td>0.833705</td>\n",
       "      <td>0.925452</td>\n",
       "      <td>0.893159</td>\n",
       "      <td>0.899726</td>\n",
       "      <td>0.905328</td>\n",
       "      <td>0.575005</td>\n",
       "    </tr>\n",
       "    <tr>\n",
       "      <th>height</th>\n",
       "      <td>0.827552</td>\n",
       "      <td>0.833705</td>\n",
       "      <td>1.000000</td>\n",
       "      <td>0.819209</td>\n",
       "      <td>0.774957</td>\n",
       "      <td>0.798293</td>\n",
       "      <td>0.817326</td>\n",
       "      <td>0.558109</td>\n",
       "    </tr>\n",
       "    <tr>\n",
       "      <th>whole weight</th>\n",
       "      <td>0.925255</td>\n",
       "      <td>0.925452</td>\n",
       "      <td>0.819209</td>\n",
       "      <td>1.000000</td>\n",
       "      <td>0.969403</td>\n",
       "      <td>0.966372</td>\n",
       "      <td>0.955351</td>\n",
       "      <td>0.540818</td>\n",
       "    </tr>\n",
       "    <tr>\n",
       "      <th>shucked weight</th>\n",
       "      <td>0.897905</td>\n",
       "      <td>0.893159</td>\n",
       "      <td>0.774957</td>\n",
       "      <td>0.969403</td>\n",
       "      <td>1.000000</td>\n",
       "      <td>0.931956</td>\n",
       "      <td>0.882606</td>\n",
       "      <td>0.421256</td>\n",
       "    </tr>\n",
       "    <tr>\n",
       "      <th>viscera weight</th>\n",
       "      <td>0.903010</td>\n",
       "      <td>0.899726</td>\n",
       "      <td>0.798293</td>\n",
       "      <td>0.966372</td>\n",
       "      <td>0.931956</td>\n",
       "      <td>1.000000</td>\n",
       "      <td>0.907647</td>\n",
       "      <td>0.504274</td>\n",
       "    </tr>\n",
       "    <tr>\n",
       "      <th>shell weight</th>\n",
       "      <td>0.897697</td>\n",
       "      <td>0.905328</td>\n",
       "      <td>0.817326</td>\n",
       "      <td>0.955351</td>\n",
       "      <td>0.882606</td>\n",
       "      <td>0.907647</td>\n",
       "      <td>1.000000</td>\n",
       "      <td>0.628031</td>\n",
       "    </tr>\n",
       "    <tr>\n",
       "      <th>rings</th>\n",
       "      <td>0.557123</td>\n",
       "      <td>0.575005</td>\n",
       "      <td>0.558109</td>\n",
       "      <td>0.540818</td>\n",
       "      <td>0.421256</td>\n",
       "      <td>0.504274</td>\n",
       "      <td>0.628031</td>\n",
       "      <td>1.000000</td>\n",
       "    </tr>\n",
       "  </tbody>\n",
       "</table>\n",
       "</div>"
      ],
      "text/plain": [
       "                  length  diameter  ...  shell weight     rings\n",
       "length          1.000000  0.986813  ...      0.897697  0.557123\n",
       "diameter        0.986813  1.000000  ...      0.905328  0.575005\n",
       "height          0.827552  0.833705  ...      0.817326  0.558109\n",
       "whole weight    0.925255  0.925452  ...      0.955351  0.540818\n",
       "shucked weight  0.897905  0.893159  ...      0.882606  0.421256\n",
       "viscera weight  0.903010  0.899726  ...      0.907647  0.504274\n",
       "shell weight    0.897697  0.905328  ...      1.000000  0.628031\n",
       "rings           0.557123  0.575005  ...      0.628031  1.000000\n",
       "\n",
       "[8 rows x 8 columns]"
      ]
     },
     "execution_count": 11,
     "metadata": {
      "tags": []
     },
     "output_type": "execute_result"
    }
   ],
   "source": [
    "df.corr()"
   ]
  },
  {
   "cell_type": "code",
   "execution_count": null,
   "metadata": {
    "id": "wDtwaOdgiZtY"
   },
   "outputs": [],
   "source": [
    "from sklearn.naive_bayes import GaussianNB\n",
    "from sklearn import metrics\n",
    "from sklearn.model_selection import train_test_split\n",
    "import numpy as np\n",
    "import matplotlib.pyplot as plt\n",
    "%matplotlib inline \n",
    "import seaborn as sns"
   ]
  },
  {
   "cell_type": "code",
   "execution_count": null,
   "metadata": {
    "colab": {
     "base_uri": "https://localhost:8080/",
     "height": 195
    },
    "id": "NUyexyCegR-z",
    "outputId": "05c3a09f-d93c-414e-b673-e0deedf5a538"
   },
   "outputs": [
    {
     "data": {
      "text/html": [
       "<div>\n",
       "<style scoped>\n",
       "    .dataframe tbody tr th:only-of-type {\n",
       "        vertical-align: middle;\n",
       "    }\n",
       "\n",
       "    .dataframe tbody tr th {\n",
       "        vertical-align: top;\n",
       "    }\n",
       "\n",
       "    .dataframe thead th {\n",
       "        text-align: right;\n",
       "    }\n",
       "</style>\n",
       "<table border=\"1\" class=\"dataframe\">\n",
       "  <thead>\n",
       "    <tr style=\"text-align: right;\">\n",
       "      <th></th>\n",
       "      <th>length</th>\n",
       "      <th>diameter</th>\n",
       "      <th>height</th>\n",
       "      <th>whole weight</th>\n",
       "      <th>shucked weight</th>\n",
       "      <th>viscera weight</th>\n",
       "      <th>shell weight</th>\n",
       "      <th>rings</th>\n",
       "      <th>sex_F</th>\n",
       "      <th>sex_I</th>\n",
       "      <th>sex_M</th>\n",
       "    </tr>\n",
       "  </thead>\n",
       "  <tbody>\n",
       "    <tr>\n",
       "      <th>0</th>\n",
       "      <td>0.350</td>\n",
       "      <td>0.265</td>\n",
       "      <td>0.090</td>\n",
       "      <td>0.2255</td>\n",
       "      <td>0.0995</td>\n",
       "      <td>0.0485</td>\n",
       "      <td>0.070</td>\n",
       "      <td>7</td>\n",
       "      <td>0</td>\n",
       "      <td>0</td>\n",
       "      <td>1</td>\n",
       "    </tr>\n",
       "    <tr>\n",
       "      <th>1</th>\n",
       "      <td>0.530</td>\n",
       "      <td>0.420</td>\n",
       "      <td>0.135</td>\n",
       "      <td>0.6770</td>\n",
       "      <td>0.2565</td>\n",
       "      <td>0.1415</td>\n",
       "      <td>0.210</td>\n",
       "      <td>9</td>\n",
       "      <td>1</td>\n",
       "      <td>0</td>\n",
       "      <td>0</td>\n",
       "    </tr>\n",
       "    <tr>\n",
       "      <th>2</th>\n",
       "      <td>0.440</td>\n",
       "      <td>0.365</td>\n",
       "      <td>0.125</td>\n",
       "      <td>0.5160</td>\n",
       "      <td>0.2155</td>\n",
       "      <td>0.1140</td>\n",
       "      <td>0.155</td>\n",
       "      <td>10</td>\n",
       "      <td>0</td>\n",
       "      <td>0</td>\n",
       "      <td>1</td>\n",
       "    </tr>\n",
       "    <tr>\n",
       "      <th>3</th>\n",
       "      <td>0.330</td>\n",
       "      <td>0.255</td>\n",
       "      <td>0.080</td>\n",
       "      <td>0.2050</td>\n",
       "      <td>0.0895</td>\n",
       "      <td>0.0395</td>\n",
       "      <td>0.055</td>\n",
       "      <td>7</td>\n",
       "      <td>0</td>\n",
       "      <td>1</td>\n",
       "      <td>0</td>\n",
       "    </tr>\n",
       "    <tr>\n",
       "      <th>4</th>\n",
       "      <td>0.425</td>\n",
       "      <td>0.300</td>\n",
       "      <td>0.095</td>\n",
       "      <td>0.3515</td>\n",
       "      <td>0.1410</td>\n",
       "      <td>0.0775</td>\n",
       "      <td>0.120</td>\n",
       "      <td>8</td>\n",
       "      <td>0</td>\n",
       "      <td>1</td>\n",
       "      <td>0</td>\n",
       "    </tr>\n",
       "  </tbody>\n",
       "</table>\n",
       "</div>"
      ],
      "text/plain": [
       "   length  diameter  height  whole weight  ...  rings  sex_F  sex_I  sex_M\n",
       "0   0.350     0.265   0.090        0.2255  ...      7      0      0      1\n",
       "1   0.530     0.420   0.135        0.6770  ...      9      1      0      0\n",
       "2   0.440     0.365   0.125        0.5160  ...     10      0      0      1\n",
       "3   0.330     0.255   0.080        0.2050  ...      7      0      1      0\n",
       "4   0.425     0.300   0.095        0.3515  ...      8      0      1      0\n",
       "\n",
       "[5 rows x 11 columns]"
      ]
     },
     "execution_count": 8,
     "metadata": {
      "tags": []
     },
     "output_type": "execute_result"
    }
   ],
   "source": [
    "df = pd.get_dummies(df, columns=['sex'])\n",
    "df.head()"
   ]
  },
  {
   "cell_type": "code",
   "execution_count": null,
   "metadata": {
    "id": "eI7QKZJPn4Sq"
   },
   "outputs": [],
   "source": [
    "X = df.drop('rings',axis=1)\n",
    "Y = df['rings']\n",
    "x_train, x_test, y_train, y_test = train_test_split(X, Y, test_size=0.3, random_state=1)"
   ]
  },
  {
   "cell_type": "code",
   "execution_count": null,
   "metadata": {
    "id": "ktIFovA62GH_"
   },
   "outputs": [],
   "source": [
    "x_train = x_train.drop('sex_I',axis=1)\n",
    "x_test = x_test.drop('sex_I',axis=1)"
   ]
  },
  {
   "cell_type": "code",
   "execution_count": null,
   "metadata": {
    "colab": {
     "base_uri": "https://localhost:8080/",
     "height": 195
    },
    "id": "BAQ7BHP1oZa7",
    "outputId": "6ab24f68-c3e2-43d7-b1a9-3fa858408bce"
   },
   "outputs": [
    {
     "data": {
      "text/html": [
       "<div>\n",
       "<style scoped>\n",
       "    .dataframe tbody tr th:only-of-type {\n",
       "        vertical-align: middle;\n",
       "    }\n",
       "\n",
       "    .dataframe tbody tr th {\n",
       "        vertical-align: top;\n",
       "    }\n",
       "\n",
       "    .dataframe thead th {\n",
       "        text-align: right;\n",
       "    }\n",
       "</style>\n",
       "<table border=\"1\" class=\"dataframe\">\n",
       "  <thead>\n",
       "    <tr style=\"text-align: right;\">\n",
       "      <th></th>\n",
       "      <th>length</th>\n",
       "      <th>diameter</th>\n",
       "      <th>height</th>\n",
       "      <th>whole weight</th>\n",
       "      <th>shucked weight</th>\n",
       "      <th>viscera weight</th>\n",
       "      <th>shell weight</th>\n",
       "      <th>sex_F</th>\n",
       "      <th>sex_M</th>\n",
       "    </tr>\n",
       "  </thead>\n",
       "  <tbody>\n",
       "    <tr>\n",
       "      <th>2813</th>\n",
       "      <td>0.275</td>\n",
       "      <td>0.200</td>\n",
       "      <td>0.055</td>\n",
       "      <td>0.0925</td>\n",
       "      <td>0.038</td>\n",
       "      <td>0.0210</td>\n",
       "      <td>0.026</td>\n",
       "      <td>0</td>\n",
       "      <td>0</td>\n",
       "    </tr>\n",
       "    <tr>\n",
       "      <th>3656</th>\n",
       "      <td>0.535</td>\n",
       "      <td>0.405</td>\n",
       "      <td>0.140</td>\n",
       "      <td>0.7315</td>\n",
       "      <td>0.336</td>\n",
       "      <td>0.1560</td>\n",
       "      <td>0.190</td>\n",
       "      <td>0</td>\n",
       "      <td>1</td>\n",
       "    </tr>\n",
       "    <tr>\n",
       "      <th>4078</th>\n",
       "      <td>0.550</td>\n",
       "      <td>0.385</td>\n",
       "      <td>0.130</td>\n",
       "      <td>0.7275</td>\n",
       "      <td>0.343</td>\n",
       "      <td>0.1625</td>\n",
       "      <td>0.190</td>\n",
       "      <td>0</td>\n",
       "      <td>1</td>\n",
       "    </tr>\n",
       "    <tr>\n",
       "      <th>1891</th>\n",
       "      <td>0.565</td>\n",
       "      <td>0.450</td>\n",
       "      <td>0.160</td>\n",
       "      <td>0.8950</td>\n",
       "      <td>0.415</td>\n",
       "      <td>0.1950</td>\n",
       "      <td>0.246</td>\n",
       "      <td>0</td>\n",
       "      <td>1</td>\n",
       "    </tr>\n",
       "    <tr>\n",
       "      <th>4064</th>\n",
       "      <td>0.370</td>\n",
       "      <td>0.275</td>\n",
       "      <td>0.080</td>\n",
       "      <td>0.2325</td>\n",
       "      <td>0.093</td>\n",
       "      <td>0.0560</td>\n",
       "      <td>0.072</td>\n",
       "      <td>0</td>\n",
       "      <td>0</td>\n",
       "    </tr>\n",
       "  </tbody>\n",
       "</table>\n",
       "</div>"
      ],
      "text/plain": [
       "      length  diameter  height  ...  shell weight  sex_F  sex_M\n",
       "2813   0.275     0.200   0.055  ...         0.026      0      0\n",
       "3656   0.535     0.405   0.140  ...         0.190      0      1\n",
       "4078   0.550     0.385   0.130  ...         0.190      0      1\n",
       "1891   0.565     0.450   0.160  ...         0.246      0      1\n",
       "4064   0.370     0.275   0.080  ...         0.072      0      0\n",
       "\n",
       "[5 rows x 9 columns]"
      ]
     },
     "execution_count": 29,
     "metadata": {
      "tags": []
     },
     "output_type": "execute_result"
    }
   ],
   "source": [
    "x_train.head()"
   ]
  },
  {
   "cell_type": "code",
   "execution_count": null,
   "metadata": {
    "colab": {
     "base_uri": "https://localhost:8080/",
     "height": 406
    },
    "id": "zPEA5tKK0jLB",
    "outputId": "7416e4e8-9db1-469f-cbe7-212d3119c12e"
   },
   "outputs": [
    {
     "data": {
      "text/html": [
       "<div>\n",
       "<style scoped>\n",
       "    .dataframe tbody tr th:only-of-type {\n",
       "        vertical-align: middle;\n",
       "    }\n",
       "\n",
       "    .dataframe tbody tr th {\n",
       "        vertical-align: top;\n",
       "    }\n",
       "\n",
       "    .dataframe thead th {\n",
       "        text-align: right;\n",
       "    }\n",
       "</style>\n",
       "<table border=\"1\" class=\"dataframe\">\n",
       "  <thead>\n",
       "    <tr style=\"text-align: right;\">\n",
       "      <th></th>\n",
       "      <th>length</th>\n",
       "      <th>diameter</th>\n",
       "      <th>height</th>\n",
       "      <th>whole weight</th>\n",
       "      <th>shucked weight</th>\n",
       "      <th>viscera weight</th>\n",
       "      <th>shell weight</th>\n",
       "      <th>rings</th>\n",
       "      <th>sex_F</th>\n",
       "      <th>sex_I</th>\n",
       "      <th>sex_M</th>\n",
       "    </tr>\n",
       "  </thead>\n",
       "  <tbody>\n",
       "    <tr>\n",
       "      <th>length</th>\n",
       "      <td>1.000000</td>\n",
       "      <td>0.986813</td>\n",
       "      <td>0.827552</td>\n",
       "      <td>0.925255</td>\n",
       "      <td>0.897905</td>\n",
       "      <td>0.903010</td>\n",
       "      <td>0.897697</td>\n",
       "      <td>0.557123</td>\n",
       "      <td>0.309602</td>\n",
       "      <td>-0.551613</td>\n",
       "      <td>0.236783</td>\n",
       "    </tr>\n",
       "    <tr>\n",
       "      <th>diameter</th>\n",
       "      <td>0.986813</td>\n",
       "      <td>1.000000</td>\n",
       "      <td>0.833705</td>\n",
       "      <td>0.925452</td>\n",
       "      <td>0.893159</td>\n",
       "      <td>0.899726</td>\n",
       "      <td>0.905328</td>\n",
       "      <td>0.575005</td>\n",
       "      <td>0.318581</td>\n",
       "      <td>-0.564431</td>\n",
       "      <td>0.240567</td>\n",
       "    </tr>\n",
       "    <tr>\n",
       "      <th>height</th>\n",
       "      <td>0.827552</td>\n",
       "      <td>0.833705</td>\n",
       "      <td>1.000000</td>\n",
       "      <td>0.819209</td>\n",
       "      <td>0.774957</td>\n",
       "      <td>0.798293</td>\n",
       "      <td>0.817326</td>\n",
       "      <td>0.558109</td>\n",
       "      <td>0.298306</td>\n",
       "      <td>-0.518828</td>\n",
       "      <td>0.215869</td>\n",
       "    </tr>\n",
       "    <tr>\n",
       "      <th>whole weight</th>\n",
       "      <td>0.925255</td>\n",
       "      <td>0.925452</td>\n",
       "      <td>0.819209</td>\n",
       "      <td>1.000000</td>\n",
       "      <td>0.969403</td>\n",
       "      <td>0.966372</td>\n",
       "      <td>0.955351</td>\n",
       "      <td>0.540818</td>\n",
       "      <td>0.299668</td>\n",
       "      <td>-0.557757</td>\n",
       "      <td>0.252305</td>\n",
       "    </tr>\n",
       "    <tr>\n",
       "      <th>shucked weight</th>\n",
       "      <td>0.897905</td>\n",
       "      <td>0.893159</td>\n",
       "      <td>0.774957</td>\n",
       "      <td>0.969403</td>\n",
       "      <td>1.000000</td>\n",
       "      <td>0.931956</td>\n",
       "      <td>0.882606</td>\n",
       "      <td>0.421256</td>\n",
       "      <td>0.263919</td>\n",
       "      <td>-0.521995</td>\n",
       "      <td>0.252048</td>\n",
       "    </tr>\n",
       "    <tr>\n",
       "      <th>viscera weight</th>\n",
       "      <td>0.903010</td>\n",
       "      <td>0.899726</td>\n",
       "      <td>0.798293</td>\n",
       "      <td>0.966372</td>\n",
       "      <td>0.931956</td>\n",
       "      <td>1.000000</td>\n",
       "      <td>0.907647</td>\n",
       "      <td>0.504274</td>\n",
       "      <td>0.308363</td>\n",
       "      <td>-0.556267</td>\n",
       "      <td>0.242489</td>\n",
       "    </tr>\n",
       "    <tr>\n",
       "      <th>shell weight</th>\n",
       "      <td>0.897697</td>\n",
       "      <td>0.905328</td>\n",
       "      <td>0.817326</td>\n",
       "      <td>0.955351</td>\n",
       "      <td>0.882606</td>\n",
       "      <td>0.907647</td>\n",
       "      <td>1.000000</td>\n",
       "      <td>0.628031</td>\n",
       "      <td>0.306248</td>\n",
       "      <td>-0.547116</td>\n",
       "      <td>0.235652</td>\n",
       "    </tr>\n",
       "    <tr>\n",
       "      <th>rings</th>\n",
       "      <td>0.557123</td>\n",
       "      <td>0.575005</td>\n",
       "      <td>0.558109</td>\n",
       "      <td>0.540818</td>\n",
       "      <td>0.421256</td>\n",
       "      <td>0.504274</td>\n",
       "      <td>0.628031</td>\n",
       "      <td>1.000000</td>\n",
       "      <td>0.250620</td>\n",
       "      <td>-0.435958</td>\n",
       "      <td>0.181426</td>\n",
       "    </tr>\n",
       "    <tr>\n",
       "      <th>sex_F</th>\n",
       "      <td>0.309602</td>\n",
       "      <td>0.318581</td>\n",
       "      <td>0.298306</td>\n",
       "      <td>0.299668</td>\n",
       "      <td>0.263919</td>\n",
       "      <td>0.308363</td>\n",
       "      <td>0.306248</td>\n",
       "      <td>0.250620</td>\n",
       "      <td>1.000000</td>\n",
       "      <td>-0.464461</td>\n",
       "      <td>-0.512449</td>\n",
       "    </tr>\n",
       "    <tr>\n",
       "      <th>sex_I</th>\n",
       "      <td>-0.551613</td>\n",
       "      <td>-0.564431</td>\n",
       "      <td>-0.518828</td>\n",
       "      <td>-0.557757</td>\n",
       "      <td>-0.521995</td>\n",
       "      <td>-0.556267</td>\n",
       "      <td>-0.547116</td>\n",
       "      <td>-0.435958</td>\n",
       "      <td>-0.464461</td>\n",
       "      <td>1.000000</td>\n",
       "      <td>-0.522462</td>\n",
       "    </tr>\n",
       "    <tr>\n",
       "      <th>sex_M</th>\n",
       "      <td>0.236783</td>\n",
       "      <td>0.240567</td>\n",
       "      <td>0.215869</td>\n",
       "      <td>0.252305</td>\n",
       "      <td>0.252048</td>\n",
       "      <td>0.242489</td>\n",
       "      <td>0.235652</td>\n",
       "      <td>0.181426</td>\n",
       "      <td>-0.512449</td>\n",
       "      <td>-0.522462</td>\n",
       "      <td>1.000000</td>\n",
       "    </tr>\n",
       "  </tbody>\n",
       "</table>\n",
       "</div>"
      ],
      "text/plain": [
       "                  length  diameter    height  ...     sex_F     sex_I     sex_M\n",
       "length          1.000000  0.986813  0.827552  ...  0.309602 -0.551613  0.236783\n",
       "diameter        0.986813  1.000000  0.833705  ...  0.318581 -0.564431  0.240567\n",
       "height          0.827552  0.833705  1.000000  ...  0.298306 -0.518828  0.215869\n",
       "whole weight    0.925255  0.925452  0.819209  ...  0.299668 -0.557757  0.252305\n",
       "shucked weight  0.897905  0.893159  0.774957  ...  0.263919 -0.521995  0.252048\n",
       "viscera weight  0.903010  0.899726  0.798293  ...  0.308363 -0.556267  0.242489\n",
       "shell weight    0.897697  0.905328  0.817326  ...  0.306248 -0.547116  0.235652\n",
       "rings           0.557123  0.575005  0.558109  ...  0.250620 -0.435958  0.181426\n",
       "sex_F           0.309602  0.318581  0.298306  ...  1.000000 -0.464461 -0.512449\n",
       "sex_I          -0.551613 -0.564431 -0.518828  ... -0.464461  1.000000 -0.522462\n",
       "sex_M           0.236783  0.240567  0.215869  ... -0.512449 -0.522462  1.000000\n",
       "\n",
       "[11 rows x 11 columns]"
      ]
     },
     "execution_count": 26,
     "metadata": {
      "tags": []
     },
     "output_type": "execute_result"
    }
   ],
   "source": [
    "df.corr()"
   ]
  },
  {
   "cell_type": "code",
   "execution_count": null,
   "metadata": {
    "colab": {
     "base_uri": "https://localhost:8080/",
     "height": 355
    },
    "id": "axHMxRPN1DnY",
    "outputId": "631d0231-2d66-43ad-cfce-cce9f8bf8ac5"
   },
   "outputs": [
    {
     "data": {
      "text/plain": [
       "<matplotlib.axes._subplots.AxesSubplot at 0x7f6fffbd2ef0>"
      ]
     },
     "execution_count": 27,
     "metadata": {
      "tags": []
     },
     "output_type": "execute_result"
    },
    {
     "data": {
      "image/png": "[encoded data removed]",
      "text/plain": [
       "<Figure size 432x288 with 2 Axes>"
      ]
     },
     "metadata": {
      "needs_background": "light",
      "tags": []
     },
     "output_type": "display_data"
    }
   ],
   "source": [
    "sns.heatmap(df.corr())"
   ]
  },
  {
   "cell_type": "code",
   "execution_count": null,
   "metadata": {
    "colab": {
     "base_uri": "https://localhost:8080/"
    },
    "id": "FP4PnHNYogqI",
    "outputId": "f227f970-de11-41b8-df13-ffc9bdb872a3"
   },
   "outputs": [
    {
     "data": {
      "text/plain": [
       "2813    4\n",
       "3656    7\n",
       "4078    8\n",
       "1891    9\n",
       "4064    6\n",
       "Name: rings, dtype: int64"
      ]
     },
     "execution_count": 11,
     "metadata": {
      "tags": []
     },
     "output_type": "execute_result"
    }
   ],
   "source": [
    "y_train.head()"
   ]
  },
  {
   "cell_type": "code",
   "execution_count": null,
   "metadata": {
    "id": "7AIwGESVchXD"
   },
   "outputs": [],
   "source": [
    "from sklearn.preprocessing import StandardScaler\n",
    "sc = StandardScaler()\n",
    "x_train = sc.fit_transform(x_train)\n",
    "x_test = sc.fit_transform(x_test)"
   ]
  },
  {
   "cell_type": "code",
   "execution_count": null,
   "metadata": {
    "colab": {
     "base_uri": "https://localhost:8080/"
    },
    "id": "5jXahKPBolMq",
    "outputId": "68ec631d-097b-4d1c-999d-71772d983f70"
   },
   "outputs": [
    {
     "data": {
      "text/plain": [
       "LinearRegression(copy_X=True, fit_intercept=True, n_jobs=None, normalize=True)"
      ]
     },
     "execution_count": 78,
     "metadata": {
      "tags": []
     },
     "output_type": "execute_result"
    }
   ],
   "source": [
    "from sklearn.linear_model import LinearRegression\n",
    "regr = LinearRegression(normalize=True)\n",
    "regr.fit(x_train,y_train)"
   ]
  },
  {
   "cell_type": "code",
   "execution_count": null,
   "metadata": {
    "colab": {
     "base_uri": "https://localhost:8080/"
    },
    "id": "jHFSdZDPj9Pw",
    "outputId": "4cb8a36e-d074-4ef8-9071-d3e4400b76b1"
   },
   "outputs": [
    {
     "data": {
      "text/plain": [
       "LinearRegression(copy_X=True, fit_intercept=True, n_jobs=None, normalize=False)"
      ]
     },
     "execution_count": 74,
     "metadata": {
      "tags": []
     },
     "output_type": "execute_result"
    }
   ],
   "source": [
    "poly = PolynomialFeatures(degree=2, interaction_only=True)\n",
    "x_train2 = poly.fit_transform(x_train)\n",
    "x_test2 = poly.fit_transform(x_test)\n",
    "poly_clf = LinearRegression()\n",
    "poly_clf.fit(x_train2, y_train)"
   ]
  },
  {
   "cell_type": "code",
   "execution_count": null,
   "metadata": {
    "colab": {
     "base_uri": "https://localhost:8080/"
    },
    "id": "dgPabB3MtbYG",
    "outputId": "270179c5-f6ec-4a84-a228-314c3290bd94"
   },
   "outputs": [
    {
     "data": {
      "text/plain": [
       "0.5806864988164206"
      ]
     },
     "execution_count": 81,
     "metadata": {
      "tags": []
     },
     "output_type": "execute_result"
    }
   ],
   "source": [
    "poly_clf.score(x_train2, y_train)"
   ]
  },
  {
   "cell_type": "code",
   "execution_count": null,
   "metadata": {
    "colab": {
     "base_uri": "https://localhost:8080/"
    },
    "id": "clNok5UJtxbe",
    "outputId": "e494606a-dd94-4540-d7af-5c8454ef4655"
   },
   "outputs": [
    {
     "data": {
      "text/plain": [
       "0.5716213796704728"
      ]
     },
     "execution_count": 82,
     "metadata": {
      "tags": []
     },
     "output_type": "execute_result"
    }
   ],
   "source": [
    "poly_clf.score(x_test2, y_test)"
   ]
  },
  {
   "cell_type": "code",
   "execution_count": null,
   "metadata": {
    "colab": {
     "base_uri": "https://localhost:8080/"
    },
    "id": "X9hy8usbiJg8",
    "outputId": "ced08fc9-1f70-4b5b-f76a-efd2a3fb59b8"
   },
   "outputs": [
    {
     "name": "stdout",
     "output_type": "stream",
     "text": [
      "Help on class PolynomialFeatures in module sklearn.preprocessing._data:\n",
      "\n",
      "class PolynomialFeatures(sklearn.base.TransformerMixin, sklearn.base.BaseEstimator)\n",
      " |  Generate polynomial and interaction features.\n",
      " |  \n",
      " |  Generate a new feature matrix consisting of all polynomial combinations\n",
      " |  of the features with degree less than or equal to the specified degree.\n",
      " |  For example, if an input sample is two dimensional and of the form\n",
      " |  [a, b], the degree-2 polynomial features are [1, a, b, a^2, ab, b^2].\n",
      " |  \n",
      " |  Parameters\n",
      " |  ----------\n",
      " |  degree : integer\n",
      " |      The degree of the polynomial features. Default = 2.\n",
      " |  \n",
      " |  interaction_only : boolean, default = False\n",
      " |      If true, only interaction features are produced: features that are\n",
      " |      products of at most ``degree`` *distinct* input features (so not\n",
      " |      ``x[1] ** 2``, ``x[0] * x[2] ** 3``, etc.).\n",
      " |  \n",
      " |  include_bias : boolean\n",
      " |      If True (default), then include a bias column, the feature in which\n",
      " |      all polynomial powers are zero (i.e. a column of ones - acts as an\n",
      " |      intercept term in a linear model).\n",
      " |  \n",
      " |  order : str in {'C', 'F'}, default 'C'\n",
      " |      Order of output array in the dense case. 'F' order is faster to\n",
      " |      compute, but may slow down subsequent estimators.\n",
      " |  \n",
      " |      .. versionadded:: 0.21\n",
      " |  \n",
      " |  Examples\n",
      " |  --------\n",
      " |  >>> import numpy as np\n",
      " |  >>> from sklearn.preprocessing import PolynomialFeatures\n",
      " |  >>> X = np.arange(6).reshape(3, 2)\n",
      " |  >>> X\n",
      " |  array([[0, 1],\n",
      " |         [2, 3],\n",
      " |         [4, 5]])\n",
      " |  >>> poly = PolynomialFeatures(2)\n",
      " |  >>> poly.fit_transform(X)\n",
      " |  array([[ 1.,  0.,  1.,  0.,  0.,  1.],\n",
      " |         [ 1.,  2.,  3.,  4.,  6.,  9.],\n",
      " |         [ 1.,  4.,  5., 16., 20., 25.]])\n",
      " |  >>> poly = PolynomialFeatures(interaction_only=True)\n",
      " |  >>> poly.fit_transform(X)\n",
      " |  array([[ 1.,  0.,  1.,  0.],\n",
      " |         [ 1.,  2.,  3.,  6.],\n",
      " |         [ 1.,  4.,  5., 20.]])\n",
      " |  \n",
      " |  Attributes\n",
      " |  ----------\n",
      " |  powers_ : array, shape (n_output_features, n_input_features)\n",
      " |      powers_[i, j] is the exponent of the jth input in the ith output.\n",
      " |  \n",
      " |  n_input_features_ : int\n",
      " |      The total number of input features.\n",
      " |  \n",
      " |  n_output_features_ : int\n",
      " |      The total number of polynomial output features. The number of output\n",
      " |      features is computed by iterating over all suitably sized combinations\n",
      " |      of input features.\n",
      " |  \n",
      " |  Notes\n",
      " |  -----\n",
      " |  Be aware that the number of features in the output array scales\n",
      " |  polynomially in the number of features of the input array, and\n",
      " |  exponentially in the degree. High degrees can cause overfitting.\n",
      " |  \n",
      " |  See :ref:`examples/linear_model/plot_polynomial_interpolation.py\n",
      " |  <sphx_glr_auto_examples_linear_model_plot_polynomial_interpolation.py>`\n",
      " |  \n",
      " |  Method resolution order:\n",
      " |      PolynomialFeatures\n",
      " |      sklearn.base.TransformerMixin\n",
      " |      sklearn.base.BaseEstimator\n",
      " |      builtins.object\n",
      " |  \n",
      " |  Methods defined here:\n",
      " |  \n",
      " |  __init__(self, degree=2, interaction_only=False, include_bias=True, order='C')\n",
      " |      Initialize self.  See help(type(self)) for accurate signature.\n",
      " |  \n",
      " |  fit(self, X, y=None)\n",
      " |      Compute number of output features.\n",
      " |      \n",
      " |      \n",
      " |      Parameters\n",
      " |      ----------\n",
      " |      X : array-like, shape (n_samples, n_features)\n",
      " |          The data.\n",
      " |      \n",
      " |      Returns\n",
      " |      -------\n",
      " |      self : instance\n",
      " |  \n",
      " |  get_feature_names(self, input_features=None)\n",
      " |      Return feature names for output features\n",
      " |      \n",
      " |      Parameters\n",
      " |      ----------\n",
      " |      input_features : list of string, length n_features, optional\n",
      " |          String names for input features if available. By default,\n",
      " |          \"x0\", \"x1\", ... \"xn_features\" is used.\n",
      " |      \n",
      " |      Returns\n",
      " |      -------\n",
      " |      output_feature_names : list of string, length n_output_features\n",
      " |  \n",
      " |  transform(self, X)\n",
      " |      Transform data to polynomial features\n",
      " |      \n",
      " |      Parameters\n",
      " |      ----------\n",
      " |      X : array-like or CSR/CSC sparse matrix, shape [n_samples, n_features]\n",
      " |          The data to transform, row by row.\n",
      " |      \n",
      " |          Prefer CSR over CSC for sparse input (for speed), but CSC is\n",
      " |          required if the degree is 4 or higher. If the degree is less than\n",
      " |          4 and the input format is CSC, it will be converted to CSR, have\n",
      " |          its polynomial features generated, then converted back to CSC.\n",
      " |      \n",
      " |          If the degree is 2 or 3, the method described in \"Leveraging\n",
      " |          Sparsity to Speed Up Polynomial Feature Expansions of CSR Matrices\n",
      " |          Using K-Simplex Numbers\" by Andrew Nystrom and John Hughes is\n",
      " |          used, which is much faster than the method used on CSC input. For\n",
      " |          this reason, a CSC input will be converted to CSR, and the output\n",
      " |          will be converted back to CSC prior to being returned, hence the\n",
      " |          preference of CSR.\n",
      " |      \n",
      " |      Returns\n",
      " |      -------\n",
      " |      XP : np.ndarray or CSR/CSC sparse matrix, shape [n_samples, NP]\n",
      " |          The matrix of features, where NP is the number of polynomial\n",
      " |          features generated from the combination of inputs.\n",
      " |  \n",
      " |  ----------------------------------------------------------------------\n",
      " |  Data descriptors defined here:\n",
      " |  \n",
      " |  powers_\n",
      " |  \n",
      " |  ----------------------------------------------------------------------\n",
      " |  Methods inherited from sklearn.base.TransformerMixin:\n",
      " |  \n",
      " |  fit_transform(self, X, y=None, **fit_params)\n",
      " |      Fit to data, then transform it.\n",
      " |      \n",
      " |      Fits transformer to X and y with optional parameters fit_params\n",
      " |      and returns a transformed version of X.\n",
      " |      \n",
      " |      Parameters\n",
      " |      ----------\n",
      " |      X : numpy array of shape [n_samples, n_features]\n",
      " |          Training set.\n",
      " |      \n",
      " |      y : numpy array of shape [n_samples]\n",
      " |          Target values.\n",
      " |      \n",
      " |      **fit_params : dict\n",
      " |          Additional fit parameters.\n",
      " |      \n",
      " |      Returns\n",
      " |      -------\n",
      " |      X_new : numpy array of shape [n_samples, n_features_new]\n",
      " |          Transformed array.\n",
      " |  \n",
      " |  ----------------------------------------------------------------------\n",
      " |  Data descriptors inherited from sklearn.base.TransformerMixin:\n",
      " |  \n",
      " |  __dict__\n",
      " |      dictionary for instance variables (if defined)\n",
      " |  \n",
      " |  __weakref__\n",
      " |      list of weak references to the object (if defined)\n",
      " |  \n",
      " |  ----------------------------------------------------------------------\n",
      " |  Methods inherited from sklearn.base.BaseEstimator:\n",
      " |  \n",
      " |  __getstate__(self)\n",
      " |  \n",
      " |  __repr__(self, N_CHAR_MAX=700)\n",
      " |      Return repr(self).\n",
      " |  \n",
      " |  __setstate__(self, state)\n",
      " |  \n",
      " |  get_params(self, deep=True)\n",
      " |      Get parameters for this estimator.\n",
      " |      \n",
      " |      Parameters\n",
      " |      ----------\n",
      " |      deep : bool, default=True\n",
      " |          If True, will return the parameters for this estimator and\n",
      " |          contained subobjects that are estimators.\n",
      " |      \n",
      " |      Returns\n",
      " |      -------\n",
      " |      params : mapping of string to any\n",
      " |          Parameter names mapped to their values.\n",
      " |  \n",
      " |  set_params(self, **params)\n",
      " |      Set the parameters of this estimator.\n",
      " |      \n",
      " |      The method works on simple estimators as well as on nested objects\n",
      " |      (such as pipelines). The latter have parameters of the form\n",
      " |      ``<component>__<parameter>`` so that it's possible to update each\n",
      " |      component of a nested object.\n",
      " |      \n",
      " |      Parameters\n",
      " |      ----------\n",
      " |      **params : dict\n",
      " |          Estimator parameters.\n",
      " |      \n",
      " |      Returns\n",
      " |      -------\n",
      " |      self : object\n",
      " |          Estimator instance.\n",
      "\n"
     ]
    }
   ],
   "source": [
    "from sklearn.preprocessing import PolynomialFeatures\n",
    "help(PolynomialFeatures)"
   ]
  },
  {
   "cell_type": "code",
   "execution_count": null,
   "metadata": {
    "colab": {
     "base_uri": "https://localhost:8080/"
    },
    "id": "hZI-n44lh2Ob",
    "outputId": "909d00a1-7413-48ca-8d9f-2ba2ea369224"
   },
   "outputs": [
    {
     "data": {
      "text/plain": [
       "0.5329912609566287"
      ]
     },
     "execution_count": 79,
     "metadata": {
      "tags": []
     },
     "output_type": "execute_result"
    }
   ],
   "source": [
    "regr.score(x_train, y_train)"
   ]
  },
  {
   "cell_type": "code",
   "execution_count": null,
   "metadata": {
    "colab": {
     "base_uri": "https://localhost:8080/"
    },
    "id": "s8nw3Q1ViHFh",
    "outputId": "f7fc274e-32a9-4c73-f6c9-b376d7fa5ff3"
   },
   "outputs": [
    {
     "data": {
      "text/plain": [
       "0.5475279847741069"
      ]
     },
     "execution_count": 80,
     "metadata": {
      "tags": []
     },
     "output_type": "execute_result"
    }
   ],
   "source": [
    "regr.score(x_test, y_test)"
   ]
  },
  {
   "cell_type": "code",
   "execution_count": null,
   "metadata": {
    "id": "J7MjfeXhi5l7"
   },
   "outputs": [],
   "source": []
  }
 ],
 "metadata": {
  "colab": {
   "name": "33108_A4.ipynb",
   "provenance": []
  },
  "kernelspec": {
   "display_name": "Python 3",
   "language": "python",
   "name": "python3"
  },
  "language_info": {
   "codemirror_mode": {
    "name": "ipython",
    "version": 3
   },
   "file_extension": ".py",
   "mimetype": "text/x-python",
   "name": "python",
   "nbconvert_exporter": "python",
   "pygments_lexer": "ipython3",
   "version": "3.8.5"
  }
 },
 "nbformat": 4,
 "nbformat_minor": 1
}
